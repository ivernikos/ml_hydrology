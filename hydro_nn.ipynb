{
 "cells": [
  {
   "cell_type": "code",
   "execution_count": 2,
   "metadata": {},
   "outputs": [],
   "source": [
    "import torch\n",
    "import torch.nn as nn\n",
    "import torch.nn.functional as F\n",
    "from torchvision import transforms\n",
    "from torch.utils.data import DataLoader, TensorDataset\n",
    "from torchmetrics import F1Score\n",
    "from torchmetrics import Accuracy\n",
    "from torchmetrics import Precision\n",
    "from torchmetrics import ConfusionMatrix\n",
    "\n",
    "import numpy as np\n",
    "import pandas as pd\n",
    "import matplotlib.pyplot as plt"
   ]
  },
  {
   "cell_type": "code",
   "execution_count": 3,
   "metadata": {},
   "outputs": [],
   "source": [
    "input_size = 7\n",
    "data_path = ''"
   ]
  },
  {
   "attachments": {},
   "cell_type": "markdown",
   "metadata": {},
   "source": [
    "# Utilities"
   ]
  },
  {
   "cell_type": "code",
   "execution_count": 4,
   "metadata": {},
   "outputs": [],
   "source": [
    "def scale(numpy_array):\n",
    "  max = numpy_array.max(axis=0)\n",
    "  scaled = numpy_array / max\n",
    "  return scaled"
   ]
  },
  {
   "attachments": {},
   "cell_type": "markdown",
   "metadata": {},
   "source": [
    "# Dataset"
   ]
  },
  {
   "cell_type": "code",
   "execution_count": 11,
   "metadata": {},
   "outputs": [],
   "source": [
    "class Dataset(TensorDataset):\n",
    "    def __init__(self, csv_path):\n",
    "        self.csv_path = csv_path\n",
    "        df = pd.read_csv(self.csv_path)\n",
    "\n",
    "        self.coords = df[['x', 'y']].to_numpy()\n",
    "        self.labels = df[['Category']].to_numpy()\n",
    "        unscaled_data = df.drop(['x', 'y', 'Category'], axis = 1).to_numpy()\n",
    "        self.data = scale(unscaled_data)\n",
    "        \n",
    "    def __len__(self):\n",
    "\t\t# return the number of total samples contained in the dataset\n",
    "        return len(self.data)\n",
    "\n",
    "    def __getitem__(self, i):\n",
    "\t\t# grab the image and label from the current index\n",
    "        feature = self.data[i:]\n",
    "        feature = torch.from_numpy(feature)\n",
    "        label = self.labels[i]\n",
    "        label = torch.from_numpy(label)\n",
    "\n",
    "\t\t# return a tuple of the image and its mask\n",
    "        return (feature, label)"
   ]
  },
  {
   "cell_type": "code",
   "execution_count": 12,
   "metadata": {},
   "outputs": [],
   "source": [
    "dataset = Dataset(data_path)"
   ]
  },
  {
   "cell_type": "code",
   "execution_count": 15,
   "metadata": {},
   "outputs": [
    {
     "data": {
      "text/plain": [
       "array([[-1.18488207e-02,  4.20707133e-07,  5.42688240e-03, ...,\n",
       "         0.00000000e+00,  2.14382234e-01, -1.36775149e-03],\n",
       "       [ 1.40298820e-05,  2.70454585e-07,  3.66733603e-04, ...,\n",
       "         0.00000000e+00,  2.81904070e-01,  1.37980687e-05],\n",
       "       [ 2.27487656e-04,  2.62310897e-04,  6.23315251e-04, ...,\n",
       "         0.00000000e+00,  6.67912741e-01, -7.76811104e-02],\n",
       "       ...,\n",
       "       [ 1.26425622e-03,  1.20202038e-07,  1.05178144e-03, ...,\n",
       "        -3.33000000e+02,  1.97737659e-01,  9.51235838e-04],\n",
       "       [-4.48587355e-03,  9.01515285e-08,  2.79350698e-04, ...,\n",
       "        -3.33000000e+02,  2.26721797e-01, -2.88042155e-03],\n",
       "       [-2.12723878e-02,  9.01515285e-08,  1.38417136e-03, ...,\n",
       "        -3.33000000e+02,  1.71280731e-01, -1.31511052e-03]])"
      ]
     },
     "execution_count": 15,
     "metadata": {},
     "output_type": "execute_result"
    }
   ],
   "source": [
    "dataset.data"
   ]
  },
  {
   "attachments": {},
   "cell_type": "markdown",
   "metadata": {},
   "source": [
    "# Model"
   ]
  },
  {
   "cell_type": "code",
   "execution_count": null,
   "metadata": {},
   "outputs": [],
   "source": [
    "class Linear(nn.Module):\n",
    "    def __init__(self, input_size, output_size):\n",
    "        super().__init__()\n",
    "        self.h1 = nn.Linear(input_size, output_size)\n",
    "        self.b1 = nn.BatchNorm1d(output_size)\n",
    "        self.r1 = nn.ReLU(inplace = True)\n",
    "\n",
    "    def forward(self, x):\n",
    "        x = self.h1(x)\n",
    "        x = self.b1(x)\n",
    "        x = self.r1(x)\n",
    "        return x"
   ]
  },
  {
   "cell_type": "code",
   "execution_count": 1,
   "metadata": {},
   "outputs": [
    {
     "ename": "NameError",
     "evalue": "name 'nn' is not defined",
     "output_type": "error",
     "traceback": [
      "\u001b[0;31m---------------------------------------------------------------------------\u001b[0m",
      "\u001b[0;31mNameError\u001b[0m                                 Traceback (most recent call last)",
      "Cell \u001b[0;32mIn[1], line 1\u001b[0m\n\u001b[0;32m----> 1\u001b[0m \u001b[39mclass\u001b[39;00m \u001b[39mneural_net\u001b[39;00m(nn\u001b[39m.\u001b[39mModule):\n\u001b[1;32m      2\u001b[0m     \u001b[39mdef\u001b[39;00m \u001b[39m__init__\u001b[39m(\u001b[39mself\u001b[39m):\n\u001b[1;32m      3\u001b[0m         \u001b[39msuper\u001b[39m()\u001b[39m.\u001b[39m\u001b[39m__init__\u001b[39m()\n",
      "\u001b[0;31mNameError\u001b[0m: name 'nn' is not defined"
     ]
    }
   ],
   "source": [
    "class NeuralNet(nn.Module):\n",
    "    def __init__(self):\n",
    "        super().__init__()\n",
    "        self.h1 = linear(input_size, 20)\n",
    "        self.h2 = linear(20, 50)\n",
    "        self.h3 = linear(50, 100)\n",
    "        self.h4 = linear(100, 50)\n",
    "        self.h5 = linear(50, 20)\n",
    "        self.h6 = linear(20, 1)\n",
    "\n",
    "        \n",
    "    def forward(self, x):\n",
    "        x = self.h1(x)\n",
    "        x = self.h2(x) \n",
    "        x = self.h3(x) \n",
    "        x = self.h4(x) \n",
    "        x = self.h5(x) \n",
    "        x = self.h6(x) \n",
    "        return x"
   ]
  }
 ],
 "metadata": {
  "kernelspec": {
   "display_name": "aigeo",
   "language": "python",
   "name": "python3"
  },
  "language_info": {
   "codemirror_mode": {
    "name": "ipython",
    "version": 3
   },
   "file_extension": ".py",
   "mimetype": "text/x-python",
   "name": "python",
   "nbconvert_exporter": "python",
   "pygments_lexer": "ipython3",
   "version": "3.11.3"
  },
  "orig_nbformat": 4
 },
 "nbformat": 4,
 "nbformat_minor": 2
}
